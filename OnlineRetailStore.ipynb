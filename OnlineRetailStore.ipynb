{
 "cells": [
  {
   "cell_type": "markdown",
   "id": "74922272-6f0b-48b7-a075-8c0d863a3753",
   "metadata": {},
   "source": [
    "#### Online Retail Store "
   ]
  },
  {
   "cell_type": "code",
   "execution_count": 1,
   "id": "e0f40d9d-86a6-40f2-9641-b5102e77fc7d",
   "metadata": {},
   "outputs": [],
   "source": [
    "# Import libraries \n",
    "import numpy as np\n",
    "import pandas as pd\n",
    "import matplotlib.pyplot as plt\n",
    "import seaborn as sb\n",
    "%matplotlib inline"
   ]
  },
  {
   "cell_type": "code",
   "execution_count": 2,
   "id": "298af488-a842-4eec-860c-35af70dd5802",
   "metadata": {},
   "outputs": [
    {
     "name": "stderr",
     "output_type": "stream",
     "text": [
      "C:\\Users\\USER\\AppData\\Local\\Temp\\ipykernel_5528\\3412776607.py:1: DtypeWarning: Columns (5) have mixed types. Specify dtype option on import or set low_memory=False.\n",
      "  data = pd.read_csv('retail.csv',encoding='unicode_escape')\n"
     ]
    },
    {
     "data": {
      "text/html": [
       "<div>\n",
       "<style scoped>\n",
       "    .dataframe tbody tr th:only-of-type {\n",
       "        vertical-align: middle;\n",
       "    }\n",
       "\n",
       "    .dataframe tbody tr th {\n",
       "        vertical-align: top;\n",
       "    }\n",
       "\n",
       "    .dataframe thead th {\n",
       "        text-align: right;\n",
       "    }\n",
       "</style>\n",
       "<table border=\"1\" class=\"dataframe\">\n",
       "  <thead>\n",
       "    <tr style=\"text-align: right;\">\n",
       "      <th></th>\n",
       "      <th>Invoice</th>\n",
       "      <th>StockCode</th>\n",
       "      <th>Description</th>\n",
       "      <th>Quantity</th>\n",
       "      <th>InvoiceDate</th>\n",
       "      <th>Price</th>\n",
       "      <th>Customer ID</th>\n",
       "      <th>Country</th>\n",
       "    </tr>\n",
       "  </thead>\n",
       "  <tbody>\n",
       "    <tr>\n",
       "      <th>0</th>\n",
       "      <td>489434</td>\n",
       "      <td>85048</td>\n",
       "      <td>15CM CHRISTMAS GLASS BALL 20 LIGHTS</td>\n",
       "      <td>12</td>\n",
       "      <td>12/01/2009 07:45</td>\n",
       "      <td>$6.95</td>\n",
       "      <td>13085.0</td>\n",
       "      <td>UK</td>\n",
       "    </tr>\n",
       "    <tr>\n",
       "      <th>1</th>\n",
       "      <td>489434</td>\n",
       "      <td>79323P</td>\n",
       "      <td>PINK CHERRY LIGHTS</td>\n",
       "      <td>12</td>\n",
       "      <td>12/01/2009 07:45</td>\n",
       "      <td>$6.75</td>\n",
       "      <td>13085.0</td>\n",
       "      <td>UK</td>\n",
       "    </tr>\n",
       "    <tr>\n",
       "      <th>2</th>\n",
       "      <td>489434</td>\n",
       "      <td>79323W</td>\n",
       "      <td>WHITE CHERRY LIGHTS</td>\n",
       "      <td>12</td>\n",
       "      <td>12/01/2009 07:45</td>\n",
       "      <td>6.75</td>\n",
       "      <td>13085.0</td>\n",
       "      <td>UK</td>\n",
       "    </tr>\n",
       "    <tr>\n",
       "      <th>3</th>\n",
       "      <td>489434</td>\n",
       "      <td>22041</td>\n",
       "      <td>RECORD FRAME 7\" SINGLE SIZE</td>\n",
       "      <td>48</td>\n",
       "      <td>12/01/2009 07:45</td>\n",
       "      <td>2.1</td>\n",
       "      <td>13085.0</td>\n",
       "      <td>UK</td>\n",
       "    </tr>\n",
       "    <tr>\n",
       "      <th>4</th>\n",
       "      <td>489434</td>\n",
       "      <td>21232</td>\n",
       "      <td>STRAWBERRY CERAMIC TRINKET BOX</td>\n",
       "      <td>24</td>\n",
       "      <td>12/01/2009 07:45</td>\n",
       "      <td>1.25</td>\n",
       "      <td>13085.0</td>\n",
       "      <td>UK</td>\n",
       "    </tr>\n",
       "    <tr>\n",
       "      <th>5</th>\n",
       "      <td>489434</td>\n",
       "      <td>22064</td>\n",
       "      <td>PINK DOUGHNUT TRINKET POT</td>\n",
       "      <td>24</td>\n",
       "      <td>12/01/2009 07:45</td>\n",
       "      <td>1.65</td>\n",
       "      <td>13085.0</td>\n",
       "      <td>UK</td>\n",
       "    </tr>\n",
       "    <tr>\n",
       "      <th>6</th>\n",
       "      <td>489434</td>\n",
       "      <td>21871</td>\n",
       "      <td>SAVE THE PLANET MUG</td>\n",
       "      <td>24</td>\n",
       "      <td>12/01/2009 07:45</td>\n",
       "      <td>1.25</td>\n",
       "      <td>13085.0</td>\n",
       "      <td>UK</td>\n",
       "    </tr>\n",
       "    <tr>\n",
       "      <th>7</th>\n",
       "      <td>489434</td>\n",
       "      <td>21523</td>\n",
       "      <td>FANCY FONT HOME SWEET HOME DOORMAT</td>\n",
       "      <td>10</td>\n",
       "      <td>12/01/2009 07:45</td>\n",
       "      <td>5.95</td>\n",
       "      <td>13085.0</td>\n",
       "      <td>UK</td>\n",
       "    </tr>\n",
       "    <tr>\n",
       "      <th>8</th>\n",
       "      <td>489435</td>\n",
       "      <td>22350</td>\n",
       "      <td>CAT BOWL</td>\n",
       "      <td>12</td>\n",
       "      <td>12/01/2009 07:46</td>\n",
       "      <td>2.55</td>\n",
       "      <td>13085.0</td>\n",
       "      <td>UK</td>\n",
       "    </tr>\n",
       "    <tr>\n",
       "      <th>9</th>\n",
       "      <td>489435</td>\n",
       "      <td>22349</td>\n",
       "      <td>DOG BOWL , CHASING BALL DESIGN</td>\n",
       "      <td>12</td>\n",
       "      <td>12/01/2009 07:46</td>\n",
       "      <td>3.75</td>\n",
       "      <td>13085.0</td>\n",
       "      <td>UK</td>\n",
       "    </tr>\n",
       "  </tbody>\n",
       "</table>\n",
       "</div>"
      ],
      "text/plain": [
       "  Invoice StockCode                          Description  Quantity  \\\n",
       "0  489434     85048  15CM CHRISTMAS GLASS BALL 20 LIGHTS        12   \n",
       "1  489434    79323P                   PINK CHERRY LIGHTS        12   \n",
       "2  489434    79323W                  WHITE CHERRY LIGHTS        12   \n",
       "3  489434     22041         RECORD FRAME 7\" SINGLE SIZE         48   \n",
       "4  489434     21232       STRAWBERRY CERAMIC TRINKET BOX        24   \n",
       "5  489434     22064           PINK DOUGHNUT TRINKET POT         24   \n",
       "6  489434     21871                  SAVE THE PLANET MUG        24   \n",
       "7  489434     21523   FANCY FONT HOME SWEET HOME DOORMAT        10   \n",
       "8  489435     22350                            CAT BOWL         12   \n",
       "9  489435     22349       DOG BOWL , CHASING BALL DESIGN        12   \n",
       "\n",
       "        InvoiceDate  Price  Customer ID Country  \n",
       "0  12/01/2009 07:45  $6.95      13085.0      UK  \n",
       "1  12/01/2009 07:45  $6.75      13085.0      UK  \n",
       "2  12/01/2009 07:45   6.75      13085.0      UK  \n",
       "3  12/01/2009 07:45    2.1      13085.0      UK  \n",
       "4  12/01/2009 07:45   1.25      13085.0      UK  \n",
       "5  12/01/2009 07:45   1.65      13085.0      UK  \n",
       "6  12/01/2009 07:45   1.25      13085.0      UK  \n",
       "7  12/01/2009 07:45   5.95      13085.0      UK  \n",
       "8  12/01/2009 07:46   2.55      13085.0      UK  \n",
       "9  12/01/2009 07:46   3.75      13085.0      UK  "
      ]
     },
     "execution_count": 2,
     "metadata": {},
     "output_type": "execute_result"
    }
   ],
   "source": [
    "data = pd.read_csv('retail.csv',encoding='unicode_escape')\n",
    "data.head(10)"
   ]
  },
  {
   "cell_type": "code",
   "execution_count": 3,
   "id": "8da6fdf9-9bf8-43fb-89c6-36cf99ffe77a",
   "metadata": {},
   "outputs": [
    {
     "data": {
      "text/plain": [
       "Country\n",
       "United Kingdom          485830\n",
       "EIRE                      9670\n",
       "Germany                   8129\n",
       "France                    5772\n",
       "Netherlands               2769\n",
       "Spain                     1278\n",
       "Switzerland               1187\n",
       "Portugal                  1101\n",
       "Belgium                   1054\n",
       "Channel Islands            906\n",
       "Sweden                     902\n",
       "Italy                      731\n",
       "Australia                  654\n",
       "Cyprus                     554\n",
       "Austria                    537\n",
       "Greece                     517\n",
       "United Arab Emirates       432\n",
       "Denmark                    428\n",
       "Norway                     369\n",
       "Finland                    354\n",
       "Unspecified                310\n",
       "USA                        244\n",
       "Japan                      224\n",
       "Poland                     194\n",
       "Malta                      172\n",
       "Lithuania                  154\n",
       "Singapore                  117\n",
       "RSA                        111\n",
       "Bahrain                    107\n",
       "Canada                      77\n",
       "Hong Kong                   76\n",
       "Thailand                    76\n",
       "Israel                      74\n",
       "Iceland                     71\n",
       "Korea                       63\n",
       "Brazil                      62\n",
       "West Indies                 54\n",
       "Bermuda                     34\n",
       "Nigeria                     32\n",
       "UK                          22\n",
       "Lebanon                     13\n",
       "Name: count, dtype: int64"
      ]
     },
     "execution_count": 3,
     "metadata": {},
     "output_type": "execute_result"
    }
   ],
   "source": [
    "data['Country'].value_counts()"
   ]
  },
  {
   "cell_type": "markdown",
   "id": "562a19e7-212e-421d-a04d-b7c31b00969f",
   "metadata": {},
   "source": [
    "##### Change Countries to full names e.g UK to United Kingdom, USA to United States of America"
   ]
  },
  {
   "cell_type": "code",
   "execution_count": 4,
   "id": "28cc2a80-0ef5-44ba-b484-e61155bd418a",
   "metadata": {},
   "outputs": [],
   "source": [
    "data['Country'] = data['Country'].replace({'UK':'United Kingdom','EIRE':'Ireland','USA':'United States of America','RSA':'South Africa'})"
   ]
  },
  {
   "cell_type": "code",
   "execution_count": 5,
   "id": "a3f0460b-87f5-407a-81e9-2c1a6c330fcb",
   "metadata": {},
   "outputs": [
    {
     "data": {
      "text/plain": [
       "Country\n",
       "United Kingdom              485852\n",
       "Ireland                       9670\n",
       "Germany                       8129\n",
       "France                        5772\n",
       "Netherlands                   2769\n",
       "Spain                         1278\n",
       "Switzerland                   1187\n",
       "Portugal                      1101\n",
       "Belgium                       1054\n",
       "Channel Islands                906\n",
       "Sweden                         902\n",
       "Italy                          731\n",
       "Australia                      654\n",
       "Cyprus                         554\n",
       "Austria                        537\n",
       "Greece                         517\n",
       "United Arab Emirates           432\n",
       "Denmark                        428\n",
       "Norway                         369\n",
       "Finland                        354\n",
       "Unspecified                    310\n",
       "United States of America       244\n",
       "Japan                          224\n",
       "Poland                         194\n",
       "Malta                          172\n",
       "Lithuania                      154\n",
       "Singapore                      117\n",
       "South Africa                   111\n",
       "Bahrain                        107\n",
       "Canada                          77\n",
       "Hong Kong                       76\n",
       "Thailand                        76\n",
       "Israel                          74\n",
       "Iceland                         71\n",
       "Korea                           63\n",
       "Brazil                          62\n",
       "West Indies                     54\n",
       "Bermuda                         34\n",
       "Nigeria                         32\n",
       "Lebanon                         13\n",
       "Name: count, dtype: int64"
      ]
     },
     "execution_count": 5,
     "metadata": {},
     "output_type": "execute_result"
    }
   ],
   "source": [
    "# Check\n",
    "data['Country'].value_counts()"
   ]
  },
  {
   "cell_type": "code",
   "execution_count": 6,
   "id": "95f97313-098f-44a7-95e9-9bf655271e45",
   "metadata": {},
   "outputs": [
    {
     "data": {
      "text/plain": [
       "Description\n",
       "WHITE HANGING HEART T-LIGHT HOLDER     3549\n",
       "REGENCY CAKESTAND 3 TIER               2212\n",
       "STRAWBERRY CERAMIC TRINKET BOX         1843\n",
       "PACK OF 72 RETRO SPOT CAKE CASES       1466\n",
       "ASSORTED COLOUR BIRD ORNAMENT          1457\n",
       "                                       ... \n",
       "stock credited from royal yacht inc       1\n",
       "VINTAGE METAL CAKE STAND CREAM            1\n",
       "BLUE BAROQUE FLOCK CANDLE HOLDER          1\n",
       "S/4 HEART CRYSTAL FRIDGE MAGNETS          1\n",
       "dotcom email                              1\n",
       "Name: count, Length: 4681, dtype: int64"
      ]
     },
     "execution_count": 6,
     "metadata": {},
     "output_type": "execute_result"
    }
   ],
   "source": [
    "# Check Description\n",
    "data['Description'].value_counts()"
   ]
  },
  {
   "cell_type": "code",
   "execution_count": 7,
   "id": "bc5a860b-006d-41db-8505-01fe9685ef84",
   "metadata": {},
   "outputs": [],
   "source": [
    "# Change all to Caps\n",
    "data['Description'] = data['Description'].str.upper()"
   ]
  },
  {
   "cell_type": "code",
   "execution_count": 8,
   "id": "6962da80-a122-4b07-bc1b-1ca049dd12d7",
   "metadata": {},
   "outputs": [
    {
     "data": {
      "text/plain": [
       "0         15CM CHRISTMAS GLASS BALL 20 LIGHTS\n",
       "1                          PINK CHERRY LIGHTS\n",
       "2                         WHITE CHERRY LIGHTS\n",
       "3                RECORD FRAME 7\" SINGLE SIZE \n",
       "4              STRAWBERRY CERAMIC TRINKET BOX\n",
       "                         ...                 \n",
       "525456                   FELTCRAFT DOLL ROSIE\n",
       "525457           FELTCRAFT PRINCESS LOLA DOLL\n",
       "525458         FELTCRAFT PRINCESS OLIVIA DOLL\n",
       "525459     PINK FLORAL FELTCRAFT SHOULDER BAG\n",
       "525460                 JUMBO STORAGE BAG SUKI\n",
       "Name: Description, Length: 525461, dtype: object"
      ]
     },
     "execution_count": 8,
     "metadata": {},
     "output_type": "execute_result"
    }
   ],
   "source": [
    "# check\n",
    "data['Description']"
   ]
  },
  {
   "cell_type": "code",
   "execution_count": 9,
   "id": "7f9df3fd-9cc0-423d-8da6-bf161a885900",
   "metadata": {},
   "outputs": [
    {
     "data": {
      "text/plain": [
       "0         13085.0\n",
       "1         13085.0\n",
       "2         13085.0\n",
       "3         13085.0\n",
       "4         13085.0\n",
       "           ...   \n",
       "525456    17530.0\n",
       "525457    17530.0\n",
       "525458    17530.0\n",
       "525459    17530.0\n",
       "525460    17530.0\n",
       "Name: Customer ID, Length: 525461, dtype: float64"
      ]
     },
     "execution_count": 9,
     "metadata": {},
     "output_type": "execute_result"
    }
   ],
   "source": [
    "#check Customer ID\n",
    "data['Customer ID']"
   ]
  },
  {
   "cell_type": "code",
   "execution_count": 10,
   "id": "5af8d2d9-886f-4200-9c79-aeb344a1bccc",
   "metadata": {},
   "outputs": [],
   "source": [
    "# Remove the full stop and last 0\n",
    "# First Convert to String \n",
    "data['Customer ID'] = data['Customer ID'].astype('str')"
   ]
  },
  {
   "cell_type": "code",
   "execution_count": 11,
   "id": "c14cf200-a019-4571-9019-9ab1cbec28c4",
   "metadata": {},
   "outputs": [
    {
     "name": "stdout",
     "output_type": "stream",
     "text": [
      "<class 'pandas.core.frame.DataFrame'>\n",
      "RangeIndex: 525461 entries, 0 to 525460\n",
      "Data columns (total 8 columns):\n",
      " #   Column       Non-Null Count   Dtype \n",
      "---  ------       --------------   ----- \n",
      " 0   Invoice      525461 non-null  object\n",
      " 1   StockCode    525461 non-null  object\n",
      " 2   Description  522533 non-null  object\n",
      " 3   Quantity     525461 non-null  int64 \n",
      " 4   InvoiceDate  525461 non-null  object\n",
      " 5   Price        525461 non-null  object\n",
      " 6   Customer ID  525461 non-null  object\n",
      " 7   Country      525461 non-null  object\n",
      "dtypes: int64(1), object(7)\n",
      "memory usage: 32.1+ MB\n"
     ]
    }
   ],
   "source": [
    "# Check\n",
    "data.info()"
   ]
  },
  {
   "cell_type": "code",
   "execution_count": 12,
   "id": "3d2cef66-e182-4ee5-bd7a-0507ed581746",
   "metadata": {},
   "outputs": [],
   "source": [
    "# Replace all full stop with nothing\n",
    "data['Customer ID'] = data['Customer ID'].str.replace('.','')"
   ]
  },
  {
   "cell_type": "code",
   "execution_count": 13,
   "id": "d96daa2b-2ed4-44fc-987b-0ae46ca3acfd",
   "metadata": {},
   "outputs": [
    {
     "data": {
      "text/plain": [
       "0         130850\n",
       "1         130850\n",
       "2         130850\n",
       "3         130850\n",
       "4         130850\n",
       "           ...  \n",
       "525456    175300\n",
       "525457    175300\n",
       "525458    175300\n",
       "525459    175300\n",
       "525460    175300\n",
       "Name: Customer ID, Length: 525461, dtype: object"
      ]
     },
     "execution_count": 13,
     "metadata": {},
     "output_type": "execute_result"
    }
   ],
   "source": [
    "#check\n",
    "data['Customer ID']"
   ]
  },
  {
   "cell_type": "code",
   "execution_count": 14,
   "id": "384d7704-dd86-41fb-9a81-f5787c31729c",
   "metadata": {},
   "outputs": [],
   "source": [
    "#remove last zero\n",
    "data['Customer ID'] = data['Customer ID'].str[:5]"
   ]
  },
  {
   "cell_type": "code",
   "execution_count": 15,
   "id": "d7fd44a9-982a-4f92-9811-76248084c840",
   "metadata": {},
   "outputs": [
    {
     "data": {
      "text/plain": [
       "0         13085\n",
       "1         13085\n",
       "2         13085\n",
       "3         13085\n",
       "4         13085\n",
       "          ...  \n",
       "525456    17530\n",
       "525457    17530\n",
       "525458    17530\n",
       "525459    17530\n",
       "525460    17530\n",
       "Name: Customer ID, Length: 525461, dtype: object"
      ]
     },
     "execution_count": 15,
     "metadata": {},
     "output_type": "execute_result"
    }
   ],
   "source": [
    "#check\n",
    "data['Customer ID']\n"
   ]
  },
  {
   "cell_type": "markdown",
   "id": "6c8e3a2b-1d97-4277-a679-bf52e216e434",
   "metadata": {},
   "source": [
    "#### Convert InvoiceDate Column to DateTime DataType"
   ]
  },
  {
   "cell_type": "code",
   "execution_count": 16,
   "id": "4f3931dc-2638-4cc3-b10c-21015a414be7",
   "metadata": {},
   "outputs": [],
   "source": [
    "data['InvoiceDate'] = pd.to_datetime(data['InvoiceDate'])"
   ]
  },
  {
   "cell_type": "code",
   "execution_count": 17,
   "id": "65cc3e89-6081-42f8-ad56-17d3b4bc54c8",
   "metadata": {},
   "outputs": [
    {
     "name": "stdout",
     "output_type": "stream",
     "text": [
      "<class 'pandas.core.frame.DataFrame'>\n",
      "RangeIndex: 525461 entries, 0 to 525460\n",
      "Data columns (total 8 columns):\n",
      " #   Column       Non-Null Count   Dtype         \n",
      "---  ------       --------------   -----         \n",
      " 0   Invoice      525461 non-null  object        \n",
      " 1   StockCode    525461 non-null  object        \n",
      " 2   Description  522533 non-null  object        \n",
      " 3   Quantity     525461 non-null  int64         \n",
      " 4   InvoiceDate  525461 non-null  datetime64[ns]\n",
      " 5   Price        525461 non-null  object        \n",
      " 6   Customer ID  525461 non-null  object        \n",
      " 7   Country      525461 non-null  object        \n",
      "dtypes: datetime64[ns](1), int64(1), object(6)\n",
      "memory usage: 32.1+ MB\n"
     ]
    }
   ],
   "source": [
    "#Check\n",
    "data.info()"
   ]
  },
  {
   "cell_type": "markdown",
   "id": "4c424e63-d1aa-4cbf-b30b-bd3d1939e87b",
   "metadata": {},
   "source": [
    "#### To remove last alphabet from the invoice number"
   ]
  },
  {
   "cell_type": "code",
   "execution_count": 18,
   "id": "8a8556d1-b38c-4fc4-86d2-2d2355a6e0c7",
   "metadata": {},
   "outputs": [
    {
     "data": {
      "text/plain": [
       "0          85048\n",
       "1         79323P\n",
       "2         79323W\n",
       "3          22041\n",
       "4          21232\n",
       "           ...  \n",
       "525456     22271\n",
       "525457     22750\n",
       "525458     22751\n",
       "525459     20970\n",
       "525460     21931\n",
       "Name: StockCode, Length: 525461, dtype: object"
      ]
     },
     "execution_count": 18,
     "metadata": {},
     "output_type": "execute_result"
    }
   ],
   "source": [
    "data['StockCode']"
   ]
  },
  {
   "cell_type": "code",
   "execution_count": 19,
   "id": "6bbc4557-61b8-49cb-af16-08157fb20bd7",
   "metadata": {},
   "outputs": [],
   "source": [
    "data['StockCode'] = data['StockCode'].str[:5]"
   ]
  },
  {
   "cell_type": "code",
   "execution_count": 20,
   "id": "31316916-7695-440a-a7c8-be6aa3aafd28",
   "metadata": {},
   "outputs": [
    {
     "data": {
      "text/plain": [
       "0         85048\n",
       "1         79323\n",
       "2         79323\n",
       "3         22041\n",
       "4         21232\n",
       "          ...  \n",
       "525456    22271\n",
       "525457    22750\n",
       "525458    22751\n",
       "525459    20970\n",
       "525460    21931\n",
       "Name: StockCode, Length: 525461, dtype: object"
      ]
     },
     "execution_count": 20,
     "metadata": {},
     "output_type": "execute_result"
    }
   ],
   "source": [
    "#Check\n",
    "data['StockCode']"
   ]
  },
  {
   "cell_type": "code",
   "execution_count": 21,
   "id": "4c67d4c5-7cb0-4c13-bf30-fac7d784f8f6",
   "metadata": {},
   "outputs": [
    {
     "name": "stdout",
     "output_type": "stream",
     "text": [
      "<class 'pandas.core.frame.DataFrame'>\n",
      "RangeIndex: 525461 entries, 0 to 525460\n",
      "Data columns (total 8 columns):\n",
      " #   Column       Non-Null Count   Dtype         \n",
      "---  ------       --------------   -----         \n",
      " 0   Invoice      525461 non-null  object        \n",
      " 1   StockCode    525461 non-null  object        \n",
      " 2   Description  522533 non-null  object        \n",
      " 3   Quantity     525461 non-null  int64         \n",
      " 4   InvoiceDate  525461 non-null  datetime64[ns]\n",
      " 5   Price        525461 non-null  object        \n",
      " 6   Customer ID  525461 non-null  object        \n",
      " 7   Country      525461 non-null  object        \n",
      "dtypes: datetime64[ns](1), int64(1), object(6)\n",
      "memory usage: 32.1+ MB\n"
     ]
    }
   ],
   "source": [
    "data.info()"
   ]
  },
  {
   "cell_type": "markdown",
   "id": "7c1b7541-8901-4549-90b5-b0d5145bb731",
   "metadata": {},
   "source": [
    "# Check the first 20 records\n",
    "data.head(20)"
   ]
  },
  {
   "cell_type": "code",
   "execution_count": 24,
   "id": "47abe5a6-34d7-4caa-ad6e-601d667d6d80",
   "metadata": {},
   "outputs": [
    {
     "data": {
      "text/plain": [
       "0         $6.95\n",
       "1         $6.75\n",
       "2          6.75\n",
       "3           2.1\n",
       "4          1.25\n",
       "          ...  \n",
       "525456     2.95\n",
       "525457     3.75\n",
       "525458     3.75\n",
       "525459     3.75\n",
       "525460     1.95\n",
       "Name: Price, Length: 525461, dtype: object"
      ]
     },
     "execution_count": 24,
     "metadata": {},
     "output_type": "execute_result"
    }
   ],
   "source": [
    "## Check Price \n",
    "data['Price']"
   ]
  },
  {
   "cell_type": "markdown",
   "id": "9779062f-2546-4cf9-8618-9f081270bab3",
   "metadata": {},
   "source": [
    "### Problem Statements\n",
    "1. Whats the total number of countries the retail stores are?\n",
    "2. Whats the total number of customer\n",
    "3. How many stock do we have in store?"
   ]
  },
  {
   "cell_type": "markdown",
   "id": "53b56154-558f-4b59-a9bf-4326faa28aee",
   "metadata": {},
   "source": [
    "#### Solution\n"
   ]
  },
  {
   "cell_type": "code",
   "execution_count": 25,
   "id": "e691497b-453e-4f8e-bd3d-a6b20c70c24b",
   "metadata": {},
   "outputs": [
    {
     "data": {
      "text/plain": [
       "40"
      ]
     },
     "execution_count": 25,
     "metadata": {},
     "output_type": "execute_result"
    }
   ],
   "source": [
    "### Total number of countries\n",
    "data['Country'].nunique()"
   ]
  },
  {
   "cell_type": "markdown",
   "id": "ffac45ae-4c61-41aa-9fbe-f4222209dafc",
   "metadata": {},
   "source": [
    "##### The retail stores are in 20 countries"
   ]
  },
  {
   "cell_type": "code",
   "execution_count": 26,
   "id": "2412f72e-7f33-4c8b-8fd4-cd7de6420a3f",
   "metadata": {},
   "outputs": [
    {
     "data": {
      "text/plain": [
       "4384"
      ]
     },
     "execution_count": 26,
     "metadata": {},
     "output_type": "execute_result"
    }
   ],
   "source": [
    "### total number of customer\n",
    "data['Customer ID'].nunique()"
   ]
  },
  {
   "cell_type": "markdown",
   "id": "c27d2979-b25a-4c83-a51f-1d6b16658496",
   "metadata": {},
   "source": [
    "##### There are 4384 customers\n"
   ]
  },
  {
   "cell_type": "code",
   "execution_count": 27,
   "id": "d8981ce3-de96-4607-8fe2-bfd629927b56",
   "metadata": {},
   "outputs": [
    {
     "data": {
      "text/plain": [
       "3581"
      ]
     },
     "execution_count": 27,
     "metadata": {},
     "output_type": "execute_result"
    }
   ],
   "source": [
    "## Number of stocks\n",
    "data['StockCode'].nunique()\n"
   ]
  },
  {
   "cell_type": "markdown",
   "id": "59d6ae79-425e-4a0d-98af-4198cf90c6e9",
   "metadata": {},
   "source": [
    "##### There are 3581 stocks\n"
   ]
  },
  {
   "cell_type": "code",
   "execution_count": 28,
   "id": "ae1b9b9d-a34a-46af-b0d4-79d5a9b585bb",
   "metadata": {},
   "outputs": [
    {
     "ename": "PermissionError",
     "evalue": "[Errno 13] Permission denied",
     "output_type": "error",
     "traceback": [
      "\u001b[1;31m---------------------------------------------------------------------------\u001b[0m",
      "\u001b[1;31mPermissionError\u001b[0m                           Traceback (most recent call last)",
      "File \u001b[1;32m~\\anaconda3\\Lib\\site-packages\\pandas\\io\\formats\\csvs.py:266\u001b[0m, in \u001b[0;36mCSVFormatter.save\u001b[1;34m(self)\u001b[0m\n\u001b[0;32m    256\u001b[0m \u001b[38;5;28mself\u001b[39m\u001b[38;5;241m.\u001b[39mwriter \u001b[38;5;241m=\u001b[39m csvlib\u001b[38;5;241m.\u001b[39mwriter(\n\u001b[0;32m    257\u001b[0m     handles\u001b[38;5;241m.\u001b[39mhandle,\n\u001b[0;32m    258\u001b[0m     lineterminator\u001b[38;5;241m=\u001b[39m\u001b[38;5;28mself\u001b[39m\u001b[38;5;241m.\u001b[39mlineterminator,\n\u001b[1;32m   (...)\u001b[0m\n\u001b[0;32m    263\u001b[0m     quotechar\u001b[38;5;241m=\u001b[39m\u001b[38;5;28mself\u001b[39m\u001b[38;5;241m.\u001b[39mquotechar,\n\u001b[0;32m    264\u001b[0m )\n\u001b[1;32m--> 266\u001b[0m \u001b[38;5;28mself\u001b[39m\u001b[38;5;241m.\u001b[39m_save()\n",
      "File \u001b[1;32m~\\anaconda3\\Lib\\site-packages\\pandas\\io\\formats\\csvs.py:271\u001b[0m, in \u001b[0;36mCSVFormatter._save\u001b[1;34m(self)\u001b[0m\n\u001b[0;32m    270\u001b[0m     \u001b[38;5;28mself\u001b[39m\u001b[38;5;241m.\u001b[39m_save_header()\n\u001b[1;32m--> 271\u001b[0m \u001b[38;5;28mself\u001b[39m\u001b[38;5;241m.\u001b[39m_save_body()\n",
      "File \u001b[1;32m~\\anaconda3\\Lib\\site-packages\\pandas\\io\\formats\\csvs.py:309\u001b[0m, in \u001b[0;36mCSVFormatter._save_body\u001b[1;34m(self)\u001b[0m\n\u001b[0;32m    308\u001b[0m     \u001b[38;5;28;01mbreak\u001b[39;00m\n\u001b[1;32m--> 309\u001b[0m \u001b[38;5;28mself\u001b[39m\u001b[38;5;241m.\u001b[39m_save_chunk(start_i, end_i)\n",
      "File \u001b[1;32m~\\anaconda3\\Lib\\site-packages\\pandas\\io\\formats\\csvs.py:320\u001b[0m, in \u001b[0;36mCSVFormatter._save_chunk\u001b[1;34m(self, start_i, end_i)\u001b[0m\n\u001b[0;32m    319\u001b[0m ix \u001b[38;5;241m=\u001b[39m \u001b[38;5;28mself\u001b[39m\u001b[38;5;241m.\u001b[39mdata_index[slicer]\u001b[38;5;241m.\u001b[39m_format_native_types(\u001b[38;5;241m*\u001b[39m\u001b[38;5;241m*\u001b[39m\u001b[38;5;28mself\u001b[39m\u001b[38;5;241m.\u001b[39m_number_format)\n\u001b[1;32m--> 320\u001b[0m libwriters\u001b[38;5;241m.\u001b[39mwrite_csv_rows(\n\u001b[0;32m    321\u001b[0m     data,\n\u001b[0;32m    322\u001b[0m     ix,\n\u001b[0;32m    323\u001b[0m     \u001b[38;5;28mself\u001b[39m\u001b[38;5;241m.\u001b[39mnlevels,\n\u001b[0;32m    324\u001b[0m     \u001b[38;5;28mself\u001b[39m\u001b[38;5;241m.\u001b[39mcols,\n\u001b[0;32m    325\u001b[0m     \u001b[38;5;28mself\u001b[39m\u001b[38;5;241m.\u001b[39mwriter,\n\u001b[0;32m    326\u001b[0m )\n",
      "File \u001b[1;32mwriters.pyx:55\u001b[0m, in \u001b[0;36mpandas._libs.writers.write_csv_rows\u001b[1;34m()\u001b[0m\n",
      "\u001b[1;31mPermissionError\u001b[0m: [Errno 13] Permission denied",
      "\nDuring handling of the above exception, another exception occurred:\n",
      "\u001b[1;31mPermissionError\u001b[0m                           Traceback (most recent call last)",
      "\u001b[1;31mPermissionError\u001b[0m: [Errno 13] Permission denied",
      "\nDuring handling of the above exception, another exception occurred:\n",
      "\u001b[1;31mPermissionError\u001b[0m                           Traceback (most recent call last)",
      "Cell \u001b[1;32mIn[28], line 1\u001b[0m\n\u001b[1;32m----> 1\u001b[0m data\u001b[38;5;241m.\u001b[39mto_csv(\u001b[38;5;124m'\u001b[39m\u001b[38;5;124mcleaned_online_retail_store.csv\u001b[39m\u001b[38;5;124m'\u001b[39m)\n",
      "File \u001b[1;32m~\\anaconda3\\Lib\\site-packages\\pandas\\core\\generic.py:3902\u001b[0m, in \u001b[0;36mNDFrame.to_csv\u001b[1;34m(self, path_or_buf, sep, na_rep, float_format, columns, header, index, index_label, mode, encoding, compression, quoting, quotechar, lineterminator, chunksize, date_format, doublequote, escapechar, decimal, errors, storage_options)\u001b[0m\n\u001b[0;32m   3891\u001b[0m df \u001b[38;5;241m=\u001b[39m \u001b[38;5;28mself\u001b[39m \u001b[38;5;28;01mif\u001b[39;00m \u001b[38;5;28misinstance\u001b[39m(\u001b[38;5;28mself\u001b[39m, ABCDataFrame) \u001b[38;5;28;01melse\u001b[39;00m \u001b[38;5;28mself\u001b[39m\u001b[38;5;241m.\u001b[39mto_frame()\n\u001b[0;32m   3893\u001b[0m formatter \u001b[38;5;241m=\u001b[39m DataFrameFormatter(\n\u001b[0;32m   3894\u001b[0m     frame\u001b[38;5;241m=\u001b[39mdf,\n\u001b[0;32m   3895\u001b[0m     header\u001b[38;5;241m=\u001b[39mheader,\n\u001b[1;32m   (...)\u001b[0m\n\u001b[0;32m   3899\u001b[0m     decimal\u001b[38;5;241m=\u001b[39mdecimal,\n\u001b[0;32m   3900\u001b[0m )\n\u001b[1;32m-> 3902\u001b[0m \u001b[38;5;28;01mreturn\u001b[39;00m DataFrameRenderer(formatter)\u001b[38;5;241m.\u001b[39mto_csv(\n\u001b[0;32m   3903\u001b[0m     path_or_buf,\n\u001b[0;32m   3904\u001b[0m     lineterminator\u001b[38;5;241m=\u001b[39mlineterminator,\n\u001b[0;32m   3905\u001b[0m     sep\u001b[38;5;241m=\u001b[39msep,\n\u001b[0;32m   3906\u001b[0m     encoding\u001b[38;5;241m=\u001b[39mencoding,\n\u001b[0;32m   3907\u001b[0m     errors\u001b[38;5;241m=\u001b[39merrors,\n\u001b[0;32m   3908\u001b[0m     compression\u001b[38;5;241m=\u001b[39mcompression,\n\u001b[0;32m   3909\u001b[0m     quoting\u001b[38;5;241m=\u001b[39mquoting,\n\u001b[0;32m   3910\u001b[0m     columns\u001b[38;5;241m=\u001b[39mcolumns,\n\u001b[0;32m   3911\u001b[0m     index_label\u001b[38;5;241m=\u001b[39mindex_label,\n\u001b[0;32m   3912\u001b[0m     mode\u001b[38;5;241m=\u001b[39mmode,\n\u001b[0;32m   3913\u001b[0m     chunksize\u001b[38;5;241m=\u001b[39mchunksize,\n\u001b[0;32m   3914\u001b[0m     quotechar\u001b[38;5;241m=\u001b[39mquotechar,\n\u001b[0;32m   3915\u001b[0m     date_format\u001b[38;5;241m=\u001b[39mdate_format,\n\u001b[0;32m   3916\u001b[0m     doublequote\u001b[38;5;241m=\u001b[39mdoublequote,\n\u001b[0;32m   3917\u001b[0m     escapechar\u001b[38;5;241m=\u001b[39mescapechar,\n\u001b[0;32m   3918\u001b[0m     storage_options\u001b[38;5;241m=\u001b[39mstorage_options,\n\u001b[0;32m   3919\u001b[0m )\n",
      "File \u001b[1;32m~\\anaconda3\\Lib\\site-packages\\pandas\\io\\formats\\format.py:1152\u001b[0m, in \u001b[0;36mDataFrameRenderer.to_csv\u001b[1;34m(self, path_or_buf, encoding, sep, columns, index_label, mode, compression, quoting, quotechar, lineterminator, chunksize, date_format, doublequote, escapechar, errors, storage_options)\u001b[0m\n\u001b[0;32m   1131\u001b[0m     created_buffer \u001b[38;5;241m=\u001b[39m \u001b[38;5;28;01mFalse\u001b[39;00m\n\u001b[0;32m   1133\u001b[0m csv_formatter \u001b[38;5;241m=\u001b[39m CSVFormatter(\n\u001b[0;32m   1134\u001b[0m     path_or_buf\u001b[38;5;241m=\u001b[39mpath_or_buf,\n\u001b[0;32m   1135\u001b[0m     lineterminator\u001b[38;5;241m=\u001b[39mlineterminator,\n\u001b[1;32m   (...)\u001b[0m\n\u001b[0;32m   1150\u001b[0m     formatter\u001b[38;5;241m=\u001b[39m\u001b[38;5;28mself\u001b[39m\u001b[38;5;241m.\u001b[39mfmt,\n\u001b[0;32m   1151\u001b[0m )\n\u001b[1;32m-> 1152\u001b[0m csv_formatter\u001b[38;5;241m.\u001b[39msave()\n\u001b[0;32m   1154\u001b[0m \u001b[38;5;28;01mif\u001b[39;00m created_buffer:\n\u001b[0;32m   1155\u001b[0m     \u001b[38;5;28;01massert\u001b[39;00m \u001b[38;5;28misinstance\u001b[39m(path_or_buf, StringIO)\n",
      "File \u001b[1;32m~\\anaconda3\\Lib\\site-packages\\pandas\\io\\formats\\csvs.py:247\u001b[0m, in \u001b[0;36mCSVFormatter.save\u001b[1;34m(self)\u001b[0m\n\u001b[0;32m    243\u001b[0m \u001b[38;5;250m\u001b[39m\u001b[38;5;124;03m\"\"\"\u001b[39;00m\n\u001b[0;32m    244\u001b[0m \u001b[38;5;124;03mCreate the writer & save.\u001b[39;00m\n\u001b[0;32m    245\u001b[0m \u001b[38;5;124;03m\"\"\"\u001b[39;00m\n\u001b[0;32m    246\u001b[0m \u001b[38;5;66;03m# apply compression and byte/text conversion\u001b[39;00m\n\u001b[1;32m--> 247\u001b[0m \u001b[38;5;28;01mwith\u001b[39;00m get_handle(\n\u001b[0;32m    248\u001b[0m     \u001b[38;5;28mself\u001b[39m\u001b[38;5;241m.\u001b[39mfilepath_or_buffer,\n\u001b[0;32m    249\u001b[0m     \u001b[38;5;28mself\u001b[39m\u001b[38;5;241m.\u001b[39mmode,\n\u001b[0;32m    250\u001b[0m     encoding\u001b[38;5;241m=\u001b[39m\u001b[38;5;28mself\u001b[39m\u001b[38;5;241m.\u001b[39mencoding,\n\u001b[0;32m    251\u001b[0m     errors\u001b[38;5;241m=\u001b[39m\u001b[38;5;28mself\u001b[39m\u001b[38;5;241m.\u001b[39merrors,\n\u001b[0;32m    252\u001b[0m     compression\u001b[38;5;241m=\u001b[39m\u001b[38;5;28mself\u001b[39m\u001b[38;5;241m.\u001b[39mcompression,\n\u001b[0;32m    253\u001b[0m     storage_options\u001b[38;5;241m=\u001b[39m\u001b[38;5;28mself\u001b[39m\u001b[38;5;241m.\u001b[39mstorage_options,\n\u001b[0;32m    254\u001b[0m ) \u001b[38;5;28;01mas\u001b[39;00m handles:\n\u001b[0;32m    255\u001b[0m     \u001b[38;5;66;03m# Note: self.encoding is irrelevant here\u001b[39;00m\n\u001b[0;32m    256\u001b[0m     \u001b[38;5;28mself\u001b[39m\u001b[38;5;241m.\u001b[39mwriter \u001b[38;5;241m=\u001b[39m csvlib\u001b[38;5;241m.\u001b[39mwriter(\n\u001b[0;32m    257\u001b[0m         handles\u001b[38;5;241m.\u001b[39mhandle,\n\u001b[0;32m    258\u001b[0m         lineterminator\u001b[38;5;241m=\u001b[39m\u001b[38;5;28mself\u001b[39m\u001b[38;5;241m.\u001b[39mlineterminator,\n\u001b[1;32m   (...)\u001b[0m\n\u001b[0;32m    263\u001b[0m         quotechar\u001b[38;5;241m=\u001b[39m\u001b[38;5;28mself\u001b[39m\u001b[38;5;241m.\u001b[39mquotechar,\n\u001b[0;32m    264\u001b[0m     )\n\u001b[0;32m    266\u001b[0m     \u001b[38;5;28mself\u001b[39m\u001b[38;5;241m.\u001b[39m_save()\n",
      "File \u001b[1;32m~\\anaconda3\\Lib\\site-packages\\pandas\\io\\common.py:142\u001b[0m, in \u001b[0;36mIOHandles.__exit__\u001b[1;34m(self, *args)\u001b[0m\n\u001b[0;32m    141\u001b[0m \u001b[38;5;28;01mdef\u001b[39;00m \u001b[38;5;21m__exit__\u001b[39m(\u001b[38;5;28mself\u001b[39m, \u001b[38;5;241m*\u001b[39margs: Any) \u001b[38;5;241m-\u001b[39m\u001b[38;5;241m>\u001b[39m \u001b[38;5;28;01mNone\u001b[39;00m:\n\u001b[1;32m--> 142\u001b[0m     \u001b[38;5;28mself\u001b[39m\u001b[38;5;241m.\u001b[39mclose()\n",
      "File \u001b[1;32m~\\anaconda3\\Lib\\site-packages\\pandas\\io\\common.py:134\u001b[0m, in \u001b[0;36mIOHandles.close\u001b[1;34m(self)\u001b[0m\n\u001b[0;32m    132\u001b[0m     \u001b[38;5;28mself\u001b[39m\u001b[38;5;241m.\u001b[39mcreated_handles\u001b[38;5;241m.\u001b[39mremove(\u001b[38;5;28mself\u001b[39m\u001b[38;5;241m.\u001b[39mhandle)\n\u001b[0;32m    133\u001b[0m \u001b[38;5;28;01mfor\u001b[39;00m handle \u001b[38;5;129;01min\u001b[39;00m \u001b[38;5;28mself\u001b[39m\u001b[38;5;241m.\u001b[39mcreated_handles:\n\u001b[1;32m--> 134\u001b[0m     handle\u001b[38;5;241m.\u001b[39mclose()\n\u001b[0;32m    135\u001b[0m \u001b[38;5;28mself\u001b[39m\u001b[38;5;241m.\u001b[39mcreated_handles \u001b[38;5;241m=\u001b[39m []\n\u001b[0;32m    136\u001b[0m \u001b[38;5;28mself\u001b[39m\u001b[38;5;241m.\u001b[39mis_wrapped \u001b[38;5;241m=\u001b[39m \u001b[38;5;28;01mFalse\u001b[39;00m\n",
      "\u001b[1;31mPermissionError\u001b[0m: [Errno 13] Permission denied"
     ]
    }
   ],
   "source": [
    "data.to_csv('cleaned_online_retail_store.csv')"
   ]
  },
  {
   "cell_type": "code",
   "execution_count": null,
   "id": "1b52e9ff-22ec-4d96-92e7-7265986c43ed",
   "metadata": {},
   "outputs": [],
   "source": []
  }
 ],
 "metadata": {
  "kernelspec": {
   "display_name": "Python 3 (ipykernel)",
   "language": "python",
   "name": "python3"
  },
  "language_info": {
   "codemirror_mode": {
    "name": "ipython",
    "version": 3
   },
   "file_extension": ".py",
   "mimetype": "text/x-python",
   "name": "python",
   "nbconvert_exporter": "python",
   "pygments_lexer": "ipython3",
   "version": "3.11.7"
  }
 },
 "nbformat": 4,
 "nbformat_minor": 5
}
